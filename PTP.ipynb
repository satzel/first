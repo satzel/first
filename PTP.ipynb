{
 "metadata": {
  "name": "",
  "signature": "sha256:00328e86e6f3a4c098934e88a6940a791f7f8cf1d21cc960a168271dca399f5e"
 },
 "nbformat": 3,
 "nbformat_minor": 0,
 "worksheets": [
  {
   "cells": [
    {
     "cell_type": "heading",
     "level": 4,
     "metadata": {},
     "source": [
      "to plan your swim just run (play button) this cell and follow the prompts, hit return after entering:"
     ]
    },
    {
     "cell_type": "code",
     "collapsed": false,
     "input": [
      "swim = raw_input('How many minutes did you swim last week?')\n",
      "\n",
      "swim_int = float(swim)\n",
      "\n",
      "swim_inc = raw_input('How many percent to you want to increase your training this week?')\n",
      "\n",
      "swim_inc_int = float(swim_inc)\n",
      "\n",
      "swim = swim_int + (swim_int/100 *swim_inc_int)\n",
      "\n",
      "print 'Please swim this week %.2f minutes' %(swim)\n",
      "\n",
      "days_swim = raw_input('On how many days do you want to swim this week?')\n",
      "\n",
      "days_swim_int = int(days_swim)\n",
      "\n",
      "if days_swim_int<7:\n",
      "    swim_plan = swim / days_swim_int\n",
      "    \n",
      "    print 'Please swim %.2f minutes on %s days this week.' %(swim_plan, days_swim)\n",
      "        \n",
      "else:\n",
      "    print 'The week only has seven days, smarty pants!'\n",
      "\n"
     ],
     "language": "python",
     "metadata": {},
     "outputs": [
      {
       "name": "stdout",
       "output_type": "stream",
       "stream": "stdout",
       "text": [
        "How many minutes did you swim last week?75\n"
       ]
      },
      {
       "name": "stdout",
       "output_type": "stream",
       "stream": "stdout",
       "text": [
        "How many percent to you want to increase your training this week?10\n"
       ]
      },
      {
       "output_type": "stream",
       "stream": "stdout",
       "text": [
        "Please swim this week 82.50 minutes\n"
       ]
      },
      {
       "name": "stdout",
       "output_type": "stream",
       "stream": "stdout",
       "text": [
        "On how many days do you want to swim this week?3\n"
       ]
      },
      {
       "output_type": "stream",
       "stream": "stdout",
       "text": [
        "Please swim 27.50 minutes on 3 days this week.\n"
       ]
      }
     ],
     "prompt_number": 1
    },
    {
     "cell_type": "heading",
     "level": 4,
     "metadata": {},
     "source": [
      "plan your bike accordingly:"
     ]
    },
    {
     "cell_type": "code",
     "collapsed": false,
     "input": [
      "bike = raw_input('How many minutes did you ride your bike last week?')\n",
      "\n",
      "bike_int = float(bike)\n",
      "\n",
      "bike_inc = raw_input('How many percent to you want to increase your training this week?')\n",
      "\n",
      "bike_inc_int = float(bike_inc)\n",
      "\n",
      "bike = bike_int + (bike_int/100 *bike_inc_int)\n",
      "\n",
      "print 'Please ride this week for %.2f minutes' %(bike)\n",
      "\n",
      "days_bike = raw_input('On how many days do you want to ride this week?')\n",
      "\n",
      "days_bike_int = int(days_bike)\n",
      "\n",
      "if days_bike_int<7:\n",
      "    bike_plan = bike / days_bike_int\n",
      "    \n",
      "    print 'Please ride %.2f minutes on %s days this week.' %(bike_plan, days_bike)\n",
      "        \n",
      "else:\n",
      "    print 'The week only has seven days, smarty pants!'\n"
     ],
     "language": "python",
     "metadata": {},
     "outputs": [
      {
       "name": "stdout",
       "output_type": "stream",
       "stream": "stdout",
       "text": [
        "How many minutes did you ride your bike last week?45\n"
       ]
      },
      {
       "name": "stdout",
       "output_type": "stream",
       "stream": "stdout",
       "text": [
        "How many percent to you want to increase your training this week?10\n"
       ]
      },
      {
       "output_type": "stream",
       "stream": "stdout",
       "text": [
        "Please ride this week for 49.50 minutes\n"
       ]
      },
      {
       "name": "stdout",
       "output_type": "stream",
       "stream": "stdout",
       "text": [
        "On how many days do you want to ride this week?8\n"
       ]
      },
      {
       "output_type": "stream",
       "stream": "stdout",
       "text": [
        "The week only has seven days, smarty pants!\n"
       ]
      }
     ],
     "prompt_number": 13
    },
    {
     "cell_type": "heading",
     "level": 4,
     "metadata": {},
     "source": [
      "and finally plan your run"
     ]
    },
    {
     "cell_type": "code",
     "collapsed": false,
     "input": [
      "run = raw_input('How many minutes did you run last week?')\n",
      "\n",
      "run_int = float(run)\n",
      "\n",
      "run_inc = raw_input('How many percent to you want to increase your training this week?')\n",
      "\n",
      "run_inc_int = float(run_inc)\n",
      "\n",
      "run = run_int + (run_int/100 *run_inc_int)\n",
      "\n",
      "print 'Please run this week for %.2f minutes' %(run)\n",
      "\n",
      "days_run = raw_input('On how many days do you want to run this week?')\n",
      "\n",
      "days_run_int = int(days_run)\n",
      "\n",
      "if days_run_int<7:\n",
      "    run_plan = run / days_run_int\n",
      "    \n",
      "    print 'Please run %.2f minutes on %s days this week.' %(run_plan, days_run)\n",
      "        \n",
      "else:\n",
      "    print 'The week only has seven days, smarty pants!'"
     ],
     "language": "python",
     "metadata": {},
     "outputs": [
      {
       "name": "stdout",
       "output_type": "stream",
       "stream": "stdout",
       "text": [
        "How many minutes did you run last week?45\n"
       ]
      },
      {
       "name": "stdout",
       "output_type": "stream",
       "stream": "stdout",
       "text": [
        "How many percent to you want to increase your training this week?10\n"
       ]
      },
      {
       "output_type": "stream",
       "stream": "stdout",
       "text": [
        "Please run this week for 49.50 minutes\n"
       ]
      },
      {
       "name": "stdout",
       "output_type": "stream",
       "stream": "stdout",
       "text": [
        "On how many days do you want to run this week?8\n"
       ]
      },
      {
       "output_type": "stream",
       "stream": "stdout",
       "text": [
        "The week only has seven days, smarty pants!\n",
        "Please ride 31.37 minutes on 4 days this week.\n"
       ]
      }
     ],
     "prompt_number": 7
    },
    {
     "cell_type": "code",
     "collapsed": false,
     "input": [],
     "language": "python",
     "metadata": {},
     "outputs": []
    }
   ],
   "metadata": {}
  }
 ]
}